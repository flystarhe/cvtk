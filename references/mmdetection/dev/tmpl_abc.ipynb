{
 "cells": [
  {
   "cell_type": "code",
   "execution_count": null,
   "id": "a4c3f10b",
   "metadata": {},
   "outputs": [],
   "source": [
    "import copy\n",
    "from pathlib import Path\n",
    "from papermill import execute_notebook\n",
    "\n",
    "workdir = \"/workspace/cvtk/references/mmdetection\"\n",
    "outdir = \"/workspace/notebooks/task_name\"\n",
    "\n",
    "_cfg = dict(cfg_xlr=1.0,\n",
    "            cfg_times=3,\n",
    "            cfg_classes=[],\n",
    "            cfg_num_classes=20,\n",
    "            cfg_albu_p=0.5,\n",
    "            cfg_experiment_path='./tmp/ipynbname',\n",
    "            cfg_train_data_root='/workspace/datasets/xxxx',\n",
    "            cfg_train_coco_file='keep_p_samples/01/train.json',\n",
    "            cfg_val_data_root='/workspace/datasets/xxxx',\n",
    "            cfg_val_coco_file='keep_p_samples/01/val.json',\n",
    "            cfg_test_data_root='/workspace/datasets/xxxx',\n",
    "            cfg_test_coco_file='keep_p_samples/01/test.json')\n",
    "\n",
    "nb_list = [\"test.ipynb\"]\n",
    "\n",
    "cfg_list = []\n",
    "for xlr in [1.0, 2.0, 0.5]:\n",
    "    cfg = copy.deepcopy(_cfg)\n",
    "\n",
    "    cfg[\"xlr\"] = xlr\n",
    "    cfg_list.append((cfg, f\"lr_{xlr}\"))\n",
    "\n",
    "task_list = []\n",
    "for nb in nb_list:\n",
    "    for cfg, flag in cfg_list:\n",
    "        task_list.append((nb, cfg, flag))\n",
    "\n",
    "logs = []\n",
    "convert_list = []\n",
    "outdir = Path(outdir)\n",
    "for input_path, cfg, flag in task_list:\n",
    "    input_path = Path(input_path)\n",
    "    output_path = outdir / f\"{input_path.stem}_{flag}.ipynb\"\n",
    "    cfg[\"cfg_experiment_path\"] = str(output_path.parent / output_path.stem)\n",
    "    log = execute_notebook(input_path, output_path, parameters=cfg,\n",
    "                           cwd=workdir, progress_bar=False, kernel_name=\"python\")\n",
    "    convert_list.append(str(output_path))\n",
    "    logs.append(log)\n",
    "\n",
    "convert_list = \" \".join(convert_list)\n",
    "#jupyter nbconvert --to html {convert_list}"
   ]
  }
 ],
 "metadata": {
  "kernelspec": {
   "display_name": "Python 3",
   "language": "python",
   "name": "python3"
  },
  "language_info": {
   "codemirror_mode": {
    "name": "ipython",
    "version": 3
   },
   "file_extension": ".py",
   "mimetype": "text/x-python",
   "name": "python",
   "nbconvert_exporter": "python",
   "pygments_lexer": "ipython3",
   "version": "3.8.8"
  }
 },
 "nbformat": 4,
 "nbformat_minor": 5
}
