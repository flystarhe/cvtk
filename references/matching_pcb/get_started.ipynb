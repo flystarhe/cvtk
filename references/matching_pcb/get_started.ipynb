{
 "metadata": {
  "language_info": {
   "codemirror_mode": {
    "name": "ipython",
    "version": 3
   },
   "file_extension": ".py",
   "mimetype": "text/x-python",
   "name": "python",
   "nbconvert_exporter": "python",
   "pygments_lexer": "ipython3",
   "version": 3
  },
  "orig_nbformat": 2
 },
 "nbformat": 4,
 "nbformat_minor": 2,
 "cells": [
  {
   "cell_type": "code",
   "execution_count": null,
   "metadata": {},
   "outputs": [],
   "source": [
    "import cv2 as cv\n",
    "import numpy as np\n",
    "from image import to_rgb, crop_image, show_image, show_images\n",
    "from thresholding import threshold_real\n",
    "from align import aligned_pairs\n",
    "from morphology import revise_templ, revise_templ2\n",
    "from visualize import label_regions, label_regions2"
   ]
  }
 ]
}